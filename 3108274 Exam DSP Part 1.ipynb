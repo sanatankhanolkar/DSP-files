{
 "cells": [
  {
   "cell_type": "code",
   "execution_count": 1,
   "id": "49d604ca",
   "metadata": {},
   "outputs": [],
   "source": [
    "from functools import reduce\n",
    "import datetime\n",
    "# Task1 Checksum definition\n",
    "def checksum (nmea:str)->bool :\n",
    "    # starting the checksum always with $\n",
    "    \n",
    "    start=nmea.find(\"$\")\n",
    "    # stopping the checksum always with *\n",
    "    stop=nmea.find(\"*\")\n",
    "    \n",
    "    if start ==-1 or stop==-1:\n",
    "        return false\n",
    "    \n",
    "    subset=nmea[start+1:stop]\n",
    "    checksum=nmea[stop+1:]\n",
    "    return hex(reduce(lambda x,y:x^y,list(ord,subset))).lstrip(\"0x\").upper()== checksum"
   ]
  },
  {
   "cell_type": "code",
   "execution_count": 2,
   "id": "b76c0813",
   "metadata": {},
   "outputs": [],
   "source": [
    "import pandas as pd\n"
   ]
  },
  {
   "cell_type": "code",
   "execution_count": 3,
   "id": "f370ab78",
   "metadata": {},
   "outputs": [],
   "source": [
    "Data=pd.read_csv(\"stepper.log\")"
   ]
  },
  {
   "cell_type": "code",
   "execution_count": 5,
   "id": "c9124320",
   "metadata": {},
   "outputs": [
    {
     "data": {
      "text/html": [
       "<div>\n",
       "<style scoped>\n",
       "    .dataframe tbody tr th:only-of-type {\n",
       "        vertical-align: middle;\n",
       "    }\n",
       "\n",
       "    .dataframe tbody tr th {\n",
       "        vertical-align: top;\n",
       "    }\n",
       "\n",
       "    .dataframe thead th {\n",
       "        text-align: right;\n",
       "    }\n",
       "</style>\n",
       "<table border=\"1\" class=\"dataframe\">\n",
       "  <thead>\n",
       "    <tr style=\"text-align: right;\">\n",
       "      <th></th>\n",
       "      <th>Time (unixtime)</th>\n",
       "      <th>CURRENT_VELOCITY</th>\n",
       "      <th>CURRENT_POSITION</th>\n",
       "      <th>REMAINING_STEPS</th>\n",
       "      <th>STACK_VOLTAGE</th>\n",
       "      <th>EXTERNAL_VOLTAGE</th>\n",
       "      <th>CURRENT_CONSUMPTION</th>\n",
       "      <th>CHECKSUM</th>\n",
       "    </tr>\n",
       "  </thead>\n",
       "  <tbody>\n",
       "    <tr>\n",
       "      <th>0</th>\n",
       "      <td>1.594905e+09</td>\n",
       "      <td>0</td>\n",
       "      <td>0</td>\n",
       "      <td>0</td>\n",
       "      <td>372</td>\n",
       "      <td>12029</td>\n",
       "      <td>225</td>\n",
       "      <td>0x3a</td>\n",
       "    </tr>\n",
       "    <tr>\n",
       "      <th>1</th>\n",
       "      <td>1.594905e+09</td>\n",
       "      <td>0</td>\n",
       "      <td>0</td>\n",
       "      <td>0</td>\n",
       "      <td>381</td>\n",
       "      <td>12011</td>\n",
       "      <td>225</td>\n",
       "      <td>0x3e</td>\n",
       "    </tr>\n",
       "    <tr>\n",
       "      <th>2</th>\n",
       "      <td>1.594905e+09</td>\n",
       "      <td>0</td>\n",
       "      <td>0</td>\n",
       "      <td>0</td>\n",
       "      <td>363</td>\n",
       "      <td>12029</td>\n",
       "      <td>225</td>\n",
       "      <td>0x3d</td>\n",
       "    </tr>\n",
       "    <tr>\n",
       "      <th>3</th>\n",
       "      <td>1.594905e+09</td>\n",
       "      <td>0</td>\n",
       "      <td>0</td>\n",
       "      <td>0</td>\n",
       "      <td>363</td>\n",
       "      <td>12046</td>\n",
       "      <td>225</td>\n",
       "      <td>0x38</td>\n",
       "    </tr>\n",
       "    <tr>\n",
       "      <th>4</th>\n",
       "      <td>1.594905e+09</td>\n",
       "      <td>0</td>\n",
       "      <td>0</td>\n",
       "      <td>0</td>\n",
       "      <td>363</td>\n",
       "      <td>12020</td>\n",
       "      <td>225</td>\n",
       "      <td>0x37</td>\n",
       "    </tr>\n",
       "  </tbody>\n",
       "</table>\n",
       "</div>"
      ],
      "text/plain": [
       "   Time (unixtime)  CURRENT_VELOCITY  CURRENT_POSITION  REMAINING_STEPS  \\\n",
       "0     1.594905e+09                 0                 0                0   \n",
       "1     1.594905e+09                 0                 0                0   \n",
       "2     1.594905e+09                 0                 0                0   \n",
       "3     1.594905e+09                 0                 0                0   \n",
       "4     1.594905e+09                 0                 0                0   \n",
       "\n",
       "   STACK_VOLTAGE  EXTERNAL_VOLTAGE  CURRENT_CONSUMPTION CHECKSUM  \n",
       "0            372             12029                  225     0x3a  \n",
       "1            381             12011                  225     0x3e  \n",
       "2            363             12029                  225     0x3d  \n",
       "3            363             12046                  225     0x38  \n",
       "4            363             12020                  225     0x37  "
      ]
     },
     "execution_count": 5,
     "metadata": {},
     "output_type": "execute_result"
    }
   ],
   "source": [
    "Data.head()"
   ]
  },
  {
   "cell_type": "code",
   "execution_count": 6,
   "id": "d135f725",
   "metadata": {},
   "outputs": [],
   "source": [
    "import numpy as np\n",
    "import csv\n",
    "from datetime import datetime\n",
    "\n",
    "# Task 1: Read datasets with correct checksum, Checksum calculation\n",
    "def calculate_checksum(line):\n",
    "    checksum = 0\n",
    "    for char in line[:line.rfind(',')+1]:\n",
    "        checksum ^= ord(char)\n",
    "    return checksum"
   ]
  },
  {
   "cell_type": "code",
   "execution_count": 32,
   "id": "4d9f0737",
   "metadata": {},
   "outputs": [],
   "source": [
    "# Task 2 read Valid data \n",
    "def read_valid_datasets(datasets):\n",
    "    valid_lines = []\n",
    "    with open(Data, 'r') as file:\n",
    "        for i, line in enumerate(file):\n",
    "            if calculate_checksum(line) == int(line.strip().split(',')[-1], 16):\n",
    "                valid_lines.append(line)\n",
    "    return valid_lines"
   ]
  },
  {
   "cell_type": "code",
   "execution_count": 33,
   "id": "d76cde14",
   "metadata": {},
   "outputs": [],
   "source": [
    "# remove Stand by position s Task 3\n",
    "\n",
    "def remove_standby_positions(tsunix, pos, volt):\n",
    "    start = 0\n",
    "    end = len(pos)\n",
    "    while start < end and pos[start] == 0:\n",
    "        start += 1\n",
    "    while end > start and pos[end-1] == 0:\n",
    "        end -= 1\n",
    "    return tsunix[start:end], pos[start:end], volt[start:end]"
   ]
  },
  {
   "cell_type": "code",
   "execution_count": 34,
   "id": "4bd706fb",
   "metadata": {},
   "outputs": [],
   "source": [
    "# Task 4  unix time to datetime object\n",
    "def convert_unixtime(tsunix):\n",
    "    tsdt = [datetime.utcfromtimestamp(ts) for ts in tsunix]\n",
    "    return tsdt"
   ]
  },
  {
   "cell_type": "code",
   "execution_count": 35,
   "id": "03207372",
   "metadata": {},
   "outputs": [],
   "source": [
    "# Task 5 Total time measurement\n",
    "def total_measurement_time(tsdt):\n",
    "    total_time = tsdt[-1] - tsdt[0]\n",
    "    return total_time"
   ]
  },
  {
   "cell_type": "code",
   "execution_count": 36,
   "id": "19b612a3",
   "metadata": {},
   "outputs": [],
   "source": [
    "wheel_diameter_cm = 10\n",
    "steps_per_revolution = 64 * 256"
   ]
  },
  {
   "cell_type": "code",
   "execution_count": 37,
   "id": "67c226f8",
   "metadata": {},
   "outputs": [],
   "source": [
    "# given data above   # position to distance\n",
    "def convert_to_distance(pos):\n",
    "    wheel_diameter_cm = 10\n",
    "    steps_per_revolution = 64 * 256\n",
    "    distance_per_step_m = (wheel_diameter_cm * np.pi) / steps_per_revolution / 100\n",
    "    dist = pos * distance_per_step_m\n",
    "    return dist"
   ]
  },
  {
   "cell_type": "code",
   "execution_count": 38,
   "id": "6bcd140b",
   "metadata": {},
   "outputs": [],
   "source": [
    "# timer when rower reaces 20 m \n",
    "\n",
    "def time_at_20m(tsdt, dist):\n",
    "    idx = np.argmax(dist >= 20)\n",
    "    time_20m = tsdt[idx]\n",
    "    return time_20m"
   ]
  },
  {
   "cell_type": "code",
   "execution_count": 39,
   "id": "bba076c1",
   "metadata": {},
   "outputs": [],
   "source": [
    "# Task 8: Export to CSV\n",
    "def export_to_csv(tsdt, dist, output_filename):\n",
    "    with open(output_filename, 'w', newline='') as file:\n",
    "        writer = csv.writer(file)\n",
    "        writer.writerow([\"Date\", \"Time\", \"Distance (m)\"])\n",
    "        for ts, d in zip(tsdt, dist):\n",
    "            writer.writerow([ts.strftime('%d-%m-%Y'), ts.strftime('%H:%M:%S'), round(d, 3)])\n"
   ]
  },
  {
   "cell_type": "code",
   "execution_count": 14,
   "id": "17d83aaf",
   "metadata": {},
   "outputs": [],
   "source": [
    "# Task 9: Calculate the average of the external voltage\n",
    "def calculate_average_voltage(volt):\n",
    "    average_voltage = np.mean(volt)\n",
    "    return average_voltage\n",
    "\n",
    "# Task 10: Simple linear regression using polyfit and polyval\n",
    "def simple_linear_regression(volt):\n",
    "    time_steps = np.arange(len(volt))  # Assuming each time step is 1 unit\n",
    "    coefficients = np.polyfit(time_steps, volt, 1)\n",
    "    volt_reg = np.polyval(coefficients, time_steps)\n",
    "    return volt_reg"
   ]
  },
  {
   "cell_type": "code",
   "execution_count": 15,
   "id": "878f57f9",
   "metadata": {},
   "outputs": [
    {
     "ename": "ValueError",
     "evalue": "invalid literal for int() with base 16: 'CHECKSUM'",
     "output_type": "error",
     "traceback": [
      "\u001b[1;31m---------------------------------------------------------------------------\u001b[0m",
      "\u001b[1;31mValueError\u001b[0m                                Traceback (most recent call last)",
      "Cell \u001b[1;32mIn[15], line 33\u001b[0m\n\u001b[0;32m     30\u001b[0m     \u001b[38;5;28mprint\u001b[39m(\u001b[38;5;124m\"\u001b[39m\u001b[38;5;124mTime when rover reached 20 meters:\u001b[39m\u001b[38;5;124m\"\u001b[39m, time_20m)\n\u001b[0;32m     32\u001b[0m \u001b[38;5;28;01mif\u001b[39;00m \u001b[38;5;18m__name__\u001b[39m \u001b[38;5;241m==\u001b[39m \u001b[38;5;124m\"\u001b[39m\u001b[38;5;124m__main__\u001b[39m\u001b[38;5;124m\"\u001b[39m:\n\u001b[1;32m---> 33\u001b[0m     main()\n",
      "Cell \u001b[1;32mIn[15], line 3\u001b[0m, in \u001b[0;36mmain\u001b[1;34m()\u001b[0m\n\u001b[0;32m      1\u001b[0m \u001b[38;5;28;01mdef\u001b[39;00m \u001b[38;5;21mmain\u001b[39m():\n\u001b[0;32m      2\u001b[0m     \u001b[38;5;66;03m# Task 1\u001b[39;00m\n\u001b[1;32m----> 3\u001b[0m     valid_datasets \u001b[38;5;241m=\u001b[39m read_valid_datasets(\u001b[38;5;124m\"\u001b[39m\u001b[38;5;124mstepper.log\u001b[39m\u001b[38;5;124m\"\u001b[39m)\n\u001b[0;32m      5\u001b[0m     \u001b[38;5;66;03m# Task 2\u001b[39;00m\n\u001b[0;32m      6\u001b[0m     tsunix, pos, volt \u001b[38;5;241m=\u001b[39m separate_data(valid_datasets)\n",
      "Cell \u001b[1;32mIn[7], line 5\u001b[0m, in \u001b[0;36mread_valid_datasets\u001b[1;34m(Data)\u001b[0m\n\u001b[0;32m      3\u001b[0m \u001b[38;5;28;01mwith\u001b[39;00m \u001b[38;5;28mopen\u001b[39m(Data, \u001b[38;5;124m'\u001b[39m\u001b[38;5;124mr\u001b[39m\u001b[38;5;124m'\u001b[39m) \u001b[38;5;28;01mas\u001b[39;00m file:\n\u001b[0;32m      4\u001b[0m     \u001b[38;5;28;01mfor\u001b[39;00m i, line \u001b[38;5;129;01min\u001b[39;00m \u001b[38;5;28menumerate\u001b[39m(file):\n\u001b[1;32m----> 5\u001b[0m         \u001b[38;5;28;01mif\u001b[39;00m calculate_checksum(line) \u001b[38;5;241m==\u001b[39m \u001b[38;5;28mint\u001b[39m(line\u001b[38;5;241m.\u001b[39mstrip()\u001b[38;5;241m.\u001b[39msplit(\u001b[38;5;124m'\u001b[39m\u001b[38;5;124m,\u001b[39m\u001b[38;5;124m'\u001b[39m)[\u001b[38;5;241m-\u001b[39m\u001b[38;5;241m1\u001b[39m], \u001b[38;5;241m16\u001b[39m):\n\u001b[0;32m      6\u001b[0m             valid_lines\u001b[38;5;241m.\u001b[39mappend(line)\n\u001b[0;32m      7\u001b[0m \u001b[38;5;28;01mreturn\u001b[39;00m valid_lines\n",
      "\u001b[1;31mValueError\u001b[0m: invalid literal for int() with base 16: 'CHECKSUM'"
     ]
    }
   ],
   "source": [
    "def main():\n",
    "    # Task 1\n",
    "    valid_datasets = read_valid_datasets(\"stepper.log\")\n",
    "\n",
    "    # Task 2\n",
    "    tsunix, pos, volt = separate_data(valid_datasets)\n",
    "\n",
    "    # Task 3\n",
    "    tsunix, pos, volt = remove_standby_positions(tsunix, pos, volt)\n",
    "\n",
    "    # Task 4\n",
    "    tsdt = convert_unixtime(tsunix)\n",
    "\n",
    "    # Task 5\n",
    "    total_time = total_measurement_time(tsdt)\n",
    "\n",
    "    # Task 6\n",
    "    dist = convert_to_distance(pos)\n",
    "    total_distance = np.sum(dist)\n",
    "\n",
    "    # Task 7\n",
    "    time_20m = time_at_20m(tsdt, dist)\n",
    "\n",
    "    # Task 8\n",
    "    export_to_csv(tsdt, dist, \"output.csv\")\n",
    "\n",
    "    print(\"Line index of incorrect datasets: None\")\n",
    "    print(\"Total time of measurement:\", total_time)\n",
    "    print(\"Total Distance:\", round(total_distance, 3), \"m\")\n",
    "    print(\"Time when rover reached 20 meters:\", time_20m)\n",
    "\n",
    "if __name__ == \"__main__\":\n",
    "    main()"
   ]
  },
  {
   "cell_type": "code",
   "execution_count": null,
   "id": "549f35d5",
   "metadata": {},
   "outputs": [],
   "source": []
  }
 ],
 "metadata": {
  "kernelspec": {
   "display_name": "Python 3 (ipykernel)",
   "language": "python",
   "name": "python3"
  },
  "language_info": {
   "codemirror_mode": {
    "name": "ipython",
    "version": 3
   },
   "file_extension": ".py",
   "mimetype": "text/x-python",
   "name": "python",
   "nbconvert_exporter": "python",
   "pygments_lexer": "ipython3",
   "version": "3.11.11"
  }
 },
 "nbformat": 4,
 "nbformat_minor": 5
}
