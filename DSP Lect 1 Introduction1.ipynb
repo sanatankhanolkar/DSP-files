
#my first program
'''
print("Hello World")
var1=100
var2=200.3
var3="35"
print(var1)
print(type(var1))
print(id(var1))

print(var2)
print(type(var2))
print(id(var2))

print(var3)
print(type(var3))
print(id(var3))

var4=100
print(id(var4))

#  Preparing The  tuple list
#  tuple list symbol() and it cannot be editable
l1=(10,20,30,40)
print(l1)
print(type(l1))
print(len(l1))
print(l1[2])
'''
# Preparing the array list [] symbol
# (array) list can be editable
# append is used for modifying the list , append takes exactly one argument
lst2=[30,40,50,60]
'''print(lst2,type(lst2))
print(len(lst2))
print(lst2[2])
'''
lst2.append(10)
lst2.append(20)
lst2.append(70)
'''print(lst2)
print(lst2[3:6])
#index from 3 to 6 so 6 not included , starts at 3 and ends it at 5
print(lst2[2:5])
print(lst2[:5])
print(lst2[:-1])
print(lst2[:-4])

# dict list
'''
l3={"el1":1,"e12":2,"el3":3}
'''print(l3["el1"])
'''
