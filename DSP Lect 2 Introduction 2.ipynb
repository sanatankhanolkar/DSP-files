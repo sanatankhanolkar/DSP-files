class Point():

    def __init__(self,x,y):
        self.x=x
        self.y=y
    def __str__(self):
        return f"x:{self.x:3f},y:{self.y:.3f}"




p1=Point(150,150.0)
p2=Point(200.0,200.0)

print(p1)
print(p2)